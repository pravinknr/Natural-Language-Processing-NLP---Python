{
 "cells": [
  {
   "cell_type": "markdown",
   "metadata": {},
   "source": [
    "# Natural Language Processing\n",
    "* Library Used : spaCy"
   ]
  },
  {
   "cell_type": "code",
   "execution_count": 1,
   "metadata": {},
   "outputs": [],
   "source": [
    "# Import the spaCy Library\n",
    "import spacy"
   ]
  },
  {
   "cell_type": "code",
   "execution_count": 3,
   "metadata": {},
   "outputs": [],
   "source": [
    "# Load the English Smaller Version of spacy\n",
    "\n",
    "nlp = spacy.load('en_core_web_sm')"
   ]
  },
  {
   "cell_type": "code",
   "execution_count": 4,
   "metadata": {},
   "outputs": [],
   "source": [
    "# Create a Document Object for a Unicode String\n",
    "\n",
    "doc = nlp(U'India has huge surge of I.T jobs with Business worth of $20 billion')"
   ]
  },
  {
   "cell_type": "code",
   "execution_count": 6,
   "metadata": {},
   "outputs": [
    {
     "name": "stdout",
     "output_type": "stream",
     "text": [
      "India \t PROPN \t nsubj \t noun, proper singular \t nominal subject\n",
      "has \t AUX \t ROOT \t verb, 3rd person singular present \t None\n",
      "huge \t ADJ \t amod \t adjective \t adjectival modifier\n",
      "surge \t NOUN \t dobj \t noun, singular or mass \t direct object\n",
      "of \t ADP \t prep \t conjunction, subordinating or preposition \t prepositional modifier\n",
      "I.T \t ADJ \t compound \t adjective \t compound\n",
      "jobs \t NOUN \t pobj \t noun, plural \t object of preposition\n",
      "with \t ADP \t prep \t conjunction, subordinating or preposition \t prepositional modifier\n",
      "Business \t NOUN \t compound \t noun, singular or mass \t compound\n",
      "worth \t NOUN \t pobj \t noun, singular or mass \t object of preposition\n",
      "of \t ADP \t prep \t conjunction, subordinating or preposition \t prepositional modifier\n",
      "$ \t SYM \t quantmod \t symbol, currency \t modifier of quantifier\n",
      "20 \t NUM \t compound \t cardinal number \t compound\n",
      "billion \t NUM \t pobj \t cardinal number \t object of preposition\n"
     ]
    }
   ],
   "source": [
    "# Now we will try to print each Token along with some Token Attributes - '\\t' used for Tab space\n",
    "\n",
    "for token in doc:\n",
    "    print(token.text, '\\t', token.pos_, '\\t', token.dep_, '\\t', spacy.explain(token.tag_), '\\t', spacy.explain(token.dep_))"
   ]
  },
  {
   "cell_type": "code",
   "execution_count": 15,
   "metadata": {},
   "outputs": [
    {
     "name": "stdout",
     "output_type": "stream",
     "text": [
      "India          PROPN      nsubj      noun, proper singular                              nominal subject\n",
      "has            AUX        ROOT       verb, 3rd person singular present                  None\n",
      "huge           ADJ        amod       adjective                                          adjectival modifier\n",
      "surge          NOUN       dobj       noun, singular or mass                             direct object\n",
      "of             ADP        prep       conjunction, subordinating or preposition          prepositional modifier\n",
      "I.T            ADJ        compound   adjective                                          compound\n",
      "jobs           NOUN       pobj       noun, plural                                       object of preposition\n",
      "with           ADP        prep       conjunction, subordinating or preposition          prepositional modifier\n",
      "Business       NOUN       compound   noun, singular or mass                             compound\n",
      "worth          NOUN       pobj       noun, singular or mass                             object of preposition\n",
      "of             ADP        prep       conjunction, subordinating or preposition          prepositional modifier\n",
      "$              SYM        quantmod   symbol, currency                                   modifier of quantifier\n",
      "20             NUM        compound   cardinal number                                    compound\n",
      "billion        NUM        pobj       cardinal number                                    object of preposition\n"
     ]
    }
   ],
   "source": [
    "# For better Representation of Output we use F' - format\n",
    "\n",
    "for token in doc:\n",
    "    print(F'{token.text:{15}}{token.pos_:{10}} {token.dep_:{10}} {spacy.explain(token.tag_):{50}} {spacy.explain(token.dep_)}')"
   ]
  },
  {
   "cell_type": "code",
   "execution_count": 8,
   "metadata": {},
   "outputs": [
    {
     "name": "stdout",
     "output_type": "stream",
     "text": [
      "has\n",
      "have\n"
     ]
    }
   ],
   "source": [
    "# Demonstration of lemmas(The Base form of the Word)\n",
    "\n",
    "print(doc[1].text)\n",
    "print(doc[1].lemma_)"
   ]
  },
  {
   "cell_type": "code",
   "execution_count": 9,
   "metadata": {},
   "outputs": [
    {
     "name": "stdout",
     "output_type": "stream",
     "text": [
      "India => Xxxxx\n",
      "I.T => X.X\n"
     ]
    }
   ],
   "source": [
    "#Demonstration of Word Text and Word shapes:\n",
    "\n",
    "print(doc[0].text+' => '+doc[0].shape_)\n",
    "print(doc[5].text+' => '+doc[5].shape_)"
   ]
  },
  {
   "cell_type": "code",
   "execution_count": 13,
   "metadata": {},
   "outputs": [
    {
     "name": "stdout",
     "output_type": "stream",
     "text": [
      "India\n",
      "True\n",
      "False\n",
      "14\n"
     ]
    }
   ],
   "source": [
    "#Demonstration to check for Alphabets and Stop Words:\n",
    "\n",
    "#Example 1\n",
    "\n",
    "print(doc[0])\n",
    "print(doc[0].is_alpha)\n",
    "print(doc[0].is_stop)\n",
    "print(len(doc)) #Length of the Document"
   ]
  },
  {
   "cell_type": "code",
   "execution_count": 14,
   "metadata": {},
   "outputs": [
    {
     "name": "stdout",
     "output_type": "stream",
     "text": [
      "of\n",
      "True\n",
      "True\n",
      "14\n"
     ]
    }
   ],
   "source": [
    "#Example 2\n",
    "\n",
    "print(doc[10])\n",
    "print(doc[10].is_alpha)\n",
    "print(doc[10].is_stop)\n",
    "print(len(doc)) #Length of the Document"
   ]
  },
  {
   "cell_type": "markdown",
   "metadata": {},
   "source": [
    "## Demonstartion of a Sentence:"
   ]
  },
  {
   "cell_type": "code",
   "execution_count": 16,
   "metadata": {},
   "outputs": [],
   "source": [
    "# Demonstration of Splitting a Paragraph ino Sentences\n",
    "doc1 = nlp(U'Hello! Welcome to NLP Learning. This is a Wonderful Example to Understand NLP. I have Performed the Basic Implementation of NLP.')"
   ]
  },
  {
   "cell_type": "code",
   "execution_count": 17,
   "metadata": {},
   "outputs": [
    {
     "data": {
      "text/plain": [
       "Hello! Welcome to NLP Learning. This is a Wonderful Example to Understand NLP. I have Performed the Basic Implementation of NLP"
      ]
     },
     "execution_count": 17,
     "metadata": {},
     "output_type": "execute_result"
    }
   ],
   "source": [
    "doc1"
   ]
  },
  {
   "cell_type": "code",
   "execution_count": 18,
   "metadata": {},
   "outputs": [
    {
     "name": "stdout",
     "output_type": "stream",
     "text": [
      "Hello!\n",
      "Welcome to NLP Learning.\n",
      "This is a Wonderful Example to Understand NLP.\n",
      "I have Performed the Basic Implementation of NLP\n"
     ]
    }
   ],
   "source": [
    "for sentence in doc1.sents:\n",
    "    print(sentence)"
   ]
  },
  {
   "cell_type": "code",
   "execution_count": 19,
   "metadata": {},
   "outputs": [
    {
     "data": {
      "text/plain": [
       "True"
      ]
     },
     "execution_count": 19,
     "metadata": {},
     "output_type": "execute_result"
    }
   ],
   "source": [
    "# To check if the Token specified with Index is the Starting of a Sentence:\n",
    "doc1[0].is_sent_start"
   ]
  },
  {
   "cell_type": "code",
   "execution_count": 23,
   "metadata": {},
   "outputs": [],
   "source": [
    "#If the Answer is false then you wont get any Output - Applicable only for this Function.\n",
    "doc1[3].is_sent_start"
   ]
  },
  {
   "cell_type": "code",
   "execution_count": 24,
   "metadata": {},
   "outputs": [
    {
     "data": {
      "text/plain": [
       "'Hello! Welcome to NLP Learning. This is a Wonderful Example to Understand NLP. I have Performed the Basic Implementation of NLP'"
      ]
     },
     "execution_count": 24,
     "metadata": {},
     "output_type": "execute_result"
    }
   ],
   "source": [
    "doc1.text"
   ]
  },
  {
   "cell_type": "markdown",
   "metadata": {},
   "source": [
    "## Demonstration of Tokenization"
   ]
  },
  {
   "cell_type": "code",
   "execution_count": 27,
   "metadata": {},
   "outputs": [
    {
     "name": "stdout",
     "output_type": "stream",
     "text": [
      "\"Hello! We're seeing the Example of Tokenizaton\"\n"
     ]
    }
   ],
   "source": [
    "# Creating a New String named String1\n",
    "string1 = '\"Hello! We\\'re seeing the Example of Tokenizaton\"'\n",
    "print(string1)"
   ]
  },
  {
   "cell_type": "code",
   "execution_count": 28,
   "metadata": {},
   "outputs": [],
   "source": [
    "# Creating a Doc2 Object and Exploring all Tokens in string1\n",
    "doc2 = nlp(string1)"
   ]
  },
  {
   "cell_type": "code",
   "execution_count": 29,
   "metadata": {},
   "outputs": [
    {
     "name": "stdout",
     "output_type": "stream",
     "text": [
      "\" || Hello || ! || We || 're || seeing || the || Example || of || Tokenizaton || \" || "
     ]
    }
   ],
   "source": [
    "for tk in doc2:\n",
    "    print(tk.text, end=' || ')"
   ]
  },
  {
   "cell_type": "code",
   "execution_count": 30,
   "metadata": {},
   "outputs": [
    {
     "data": {
      "text/plain": [
       "11"
      ]
     },
     "execution_count": 30,
     "metadata": {},
     "output_type": "execute_result"
    }
   ],
   "source": [
    "# To count number of Tokens\n",
    "len(doc2)"
   ]
  },
  {
   "cell_type": "code",
   "execution_count": 32,
   "metadata": {},
   "outputs": [
    {
     "data": {
      "text/plain": [
       "We're seeing"
      ]
     },
     "execution_count": 32,
     "metadata": {},
     "output_type": "execute_result"
    }
   ],
   "source": [
    "# Demonstration to fetch Three Tokens from the Middle of the string\n",
    "doc2[3:6]"
   ]
  },
  {
   "cell_type": "code",
   "execution_count": 34,
   "metadata": {},
   "outputs": [
    {
     "data": {
      "text/plain": [
       "the Example of Tokenizaton\""
      ]
     },
     "execution_count": 34,
     "metadata": {},
     "output_type": "execute_result"
    }
   ],
   "source": [
    "# Demonstration to fetch last 5 Tokens of the string\n",
    "doc2[-5:]"
   ]
  },
  {
   "cell_type": "code",
   "execution_count": 35,
   "metadata": {},
   "outputs": [
    {
     "ename": "TypeError",
     "evalue": "'spacy.tokens.doc.Doc' object does not support item assignment",
     "output_type": "error",
     "traceback": [
      "\u001b[1;31m---------------------------------------------------------------------------\u001b[0m",
      "\u001b[1;31mTypeError\u001b[0m                                 Traceback (most recent call last)",
      "\u001b[1;32m<ipython-input-35-57c2c60f0616>\u001b[0m in \u001b[0;36m<module>\u001b[1;34m\u001b[0m\n\u001b[0;32m      1\u001b[0m \u001b[1;31m# Note: Item Assignment is not Allowedin spacy\u001b[0m\u001b[1;33m\u001b[0m\u001b[1;33m\u001b[0m\u001b[1;33m\u001b[0m\u001b[0m\n\u001b[1;32m----> 2\u001b[1;33m \u001b[0mdoc2\u001b[0m\u001b[1;33m[\u001b[0m\u001b[1;36m3\u001b[0m\u001b[1;33m]\u001b[0m \u001b[1;33m=\u001b[0m \u001b[0mdoc\u001b[0m\u001b[1;33m[\u001b[0m\u001b[1;36m6\u001b[0m\u001b[1;33m]\u001b[0m\u001b[1;33m\u001b[0m\u001b[1;33m\u001b[0m\u001b[0m\n\u001b[0m",
      "\u001b[1;31mTypeError\u001b[0m: 'spacy.tokens.doc.Doc' object does not support item assignment"
     ]
    }
   ],
   "source": [
    "# Note: Item Assignment is not Allowedin spacy\n",
    "doc2[3] = doc[6]"
   ]
  },
  {
   "cell_type": "markdown",
   "metadata": {},
   "source": [
    "## Demonstration of Named Entity Recognition"
   ]
  },
  {
   "cell_type": "code",
   "execution_count": 38,
   "metadata": {},
   "outputs": [
    {
     "data": {
      "text/plain": [
       "Google is Setting up $50 Million Comapny Branch in Delhi"
      ]
     },
     "execution_count": 38,
     "metadata": {},
     "output_type": "execute_result"
    }
   ],
   "source": [
    "# View Named Entities\n",
    "doc3 = nlp(U'Google is Setting up $50 Million Comapny Branch in Delhi')\n",
    "doc3"
   ]
  },
  {
   "cell_type": "code",
   "execution_count": 41,
   "metadata": {},
   "outputs": [
    {
     "name": "stdout",
     "output_type": "stream",
     "text": [
      "Google || is || Setting || up || $ || 50 || Million || Comapny || Branch || in || Delhi || \n",
      "\n",
      "Google - ORG - Companies, agencies, institutions, etc.\n",
      "$50 Million - MONEY - Monetary values, including unit\n",
      "Comapny Branch - PERSON - People, including fictional\n",
      "Delhi - GPE - Countries, cities, states\n"
     ]
    }
   ],
   "source": [
    "for tk in doc3:\n",
    "    print(tk.text, end = ' || ')\n",
    "    \n",
    "print('\\n')\n",
    "\n",
    "for entity in doc3.ents:\n",
    "    print(entity.text+' - '+entity.label_+' - '+str(spacy.explain(entity.label_)))"
   ]
  },
  {
   "cell_type": "code",
   "execution_count": 42,
   "metadata": {},
   "outputs": [
    {
     "data": {
      "text/plain": [
       "4"
      ]
     },
     "execution_count": 42,
     "metadata": {},
     "output_type": "execute_result"
    }
   ],
   "source": [
    "# Count number of Named Entities\n",
    "len(doc3.ents)"
   ]
  },
  {
   "cell_type": "markdown",
   "metadata": {},
   "source": [
    "## Built in Visualizers"
   ]
  },
  {
   "cell_type": "code",
   "execution_count": 44,
   "metadata": {},
   "outputs": [],
   "source": [
    "# spacy includes a built-in Visualization tool called displacy.\n",
    "# Demonstration to view all Entities in Displacy\n",
    "\n",
    "#Import displacy\n",
    "from spacy import displacy\n",
    "\n"
   ]
  },
  {
   "cell_type": "code",
   "execution_count": 46,
   "metadata": {},
   "outputs": [
    {
     "data": {
      "text/plain": [
       "Google is Setting up $50 Million Company Branch in Delhi"
      ]
     },
     "execution_count": 46,
     "metadata": {},
     "output_type": "execute_result"
    }
   ],
   "source": [
    "#Example 1\n",
    "\n",
    "doc4 = nlp(u'Google is Setting up $50 Million Company Branch in Delhi')\n",
    "doc4"
   ]
  },
  {
   "cell_type": "code",
   "execution_count": 47,
   "metadata": {},
   "outputs": [
    {
     "data": {
      "text/html": [
       "<span class=\"tex2jax_ignore\"><div class=\"entities\" style=\"line-height: 2.5; direction: ltr\">\n",
       "<mark class=\"entity\" style=\"background: #7aecec; padding: 0.45em 0.6em; margin: 0 0.25em; line-height: 1; border-radius: 0.35em;\">\n",
       "    Google\n",
       "    <span style=\"font-size: 0.8em; font-weight: bold; line-height: 1; border-radius: 0.35em; text-transform: uppercase; vertical-align: middle; margin-left: 0.5rem\">ORG</span>\n",
       "</mark>\n",
       " is Setting up \n",
       "<mark class=\"entity\" style=\"background: #e4e7d2; padding: 0.45em 0.6em; margin: 0 0.25em; line-height: 1; border-radius: 0.35em;\">\n",
       "    $50 Million\n",
       "    <span style=\"font-size: 0.8em; font-weight: bold; line-height: 1; border-radius: 0.35em; text-transform: uppercase; vertical-align: middle; margin-left: 0.5rem\">MONEY</span>\n",
       "</mark>\n",
       " Company Branch in \n",
       "<mark class=\"entity\" style=\"background: #feca74; padding: 0.45em 0.6em; margin: 0 0.25em; line-height: 1; border-radius: 0.35em;\">\n",
       "    Delhi\n",
       "    <span style=\"font-size: 0.8em; font-weight: bold; line-height: 1; border-radius: 0.35em; text-transform: uppercase; vertical-align: middle; margin-left: 0.5rem\">GPE</span>\n",
       "</mark>\n",
       "</div></span>"
      ],
      "text/plain": [
       "<IPython.core.display.HTML object>"
      ]
     },
     "metadata": {},
     "output_type": "display_data"
    }
   ],
   "source": [
    "#Style - Entity\n",
    "displacy.render(doc4, style='ent', jupyter = True) "
   ]
  },
  {
   "cell_type": "code",
   "execution_count": 48,
   "metadata": {},
   "outputs": [
    {
     "data": {
      "text/plain": [
       "Pravin is Learning NLP"
      ]
     },
     "execution_count": 48,
     "metadata": {},
     "output_type": "execute_result"
    }
   ],
   "source": [
    "#Example 2\n",
    "\n",
    "doc5 = nlp(u'Pravin is Learning NLP')\n",
    "doc5"
   ]
  },
  {
   "cell_type": "code",
   "execution_count": 49,
   "metadata": {},
   "outputs": [
    {
     "data": {
      "text/html": [
       "<span class=\"tex2jax_ignore\"><svg xmlns=\"http://www.w3.org/2000/svg\" xmlns:xlink=\"http://www.w3.org/1999/xlink\" xml:lang=\"en\" id=\"bf880cb32daf4a5a8ed1e4cd395a6bf3-0\" class=\"displacy\" width=\"410\" height=\"227.0\" direction=\"ltr\" style=\"max-width: none; height: 227.0px; color: #000000; background: #ffffff; font-family: Arial; direction: ltr\">\n",
       "<text class=\"displacy-token\" fill=\"currentColor\" text-anchor=\"middle\" y=\"137.0\">\n",
       "    <tspan class=\"displacy-word\" fill=\"currentColor\" x=\"50\">Pravin</tspan>\n",
       "    <tspan class=\"displacy-tag\" dy=\"2em\" fill=\"currentColor\" x=\"50\">PROPN</tspan>\n",
       "</text>\n",
       "\n",
       "<text class=\"displacy-token\" fill=\"currentColor\" text-anchor=\"middle\" y=\"137.0\">\n",
       "    <tspan class=\"displacy-word\" fill=\"currentColor\" x=\"140\">is</tspan>\n",
       "    <tspan class=\"displacy-tag\" dy=\"2em\" fill=\"currentColor\" x=\"140\">AUX</tspan>\n",
       "</text>\n",
       "\n",
       "<text class=\"displacy-token\" fill=\"currentColor\" text-anchor=\"middle\" y=\"137.0\">\n",
       "    <tspan class=\"displacy-word\" fill=\"currentColor\" x=\"230\">Learning</tspan>\n",
       "    <tspan class=\"displacy-tag\" dy=\"2em\" fill=\"currentColor\" x=\"230\">VERB</tspan>\n",
       "</text>\n",
       "\n",
       "<text class=\"displacy-token\" fill=\"currentColor\" text-anchor=\"middle\" y=\"137.0\">\n",
       "    <tspan class=\"displacy-word\" fill=\"currentColor\" x=\"320\">NLP</tspan>\n",
       "    <tspan class=\"displacy-tag\" dy=\"2em\" fill=\"currentColor\" x=\"320\">PROPN</tspan>\n",
       "</text>\n",
       "\n",
       "<g class=\"displacy-arrow\">\n",
       "    <path class=\"displacy-arc\" id=\"arrow-bf880cb32daf4a5a8ed1e4cd395a6bf3-0-0\" stroke-width=\"2px\" d=\"M70,92.0 C70,2.0 230.0,2.0 230.0,92.0\" fill=\"none\" stroke=\"currentColor\"/>\n",
       "    <text dy=\"1.25em\" style=\"font-size: 0.8em; letter-spacing: 1px\">\n",
       "        <textPath xlink:href=\"#arrow-bf880cb32daf4a5a8ed1e4cd395a6bf3-0-0\" class=\"displacy-label\" startOffset=\"50%\" side=\"left\" fill=\"currentColor\" text-anchor=\"middle\">nsubj</textPath>\n",
       "    </text>\n",
       "    <path class=\"displacy-arrowhead\" d=\"M70,94.0 L62,82.0 78,82.0\" fill=\"currentColor\"/>\n",
       "</g>\n",
       "\n",
       "<g class=\"displacy-arrow\">\n",
       "    <path class=\"displacy-arc\" id=\"arrow-bf880cb32daf4a5a8ed1e4cd395a6bf3-0-1\" stroke-width=\"2px\" d=\"M160,92.0 C160,47.0 225.0,47.0 225.0,92.0\" fill=\"none\" stroke=\"currentColor\"/>\n",
       "    <text dy=\"1.25em\" style=\"font-size: 0.8em; letter-spacing: 1px\">\n",
       "        <textPath xlink:href=\"#arrow-bf880cb32daf4a5a8ed1e4cd395a6bf3-0-1\" class=\"displacy-label\" startOffset=\"50%\" side=\"left\" fill=\"currentColor\" text-anchor=\"middle\">aux</textPath>\n",
       "    </text>\n",
       "    <path class=\"displacy-arrowhead\" d=\"M160,94.0 L152,82.0 168,82.0\" fill=\"currentColor\"/>\n",
       "</g>\n",
       "\n",
       "<g class=\"displacy-arrow\">\n",
       "    <path class=\"displacy-arc\" id=\"arrow-bf880cb32daf4a5a8ed1e4cd395a6bf3-0-2\" stroke-width=\"2px\" d=\"M250,92.0 C250,47.0 315.0,47.0 315.0,92.0\" fill=\"none\" stroke=\"currentColor\"/>\n",
       "    <text dy=\"1.25em\" style=\"font-size: 0.8em; letter-spacing: 1px\">\n",
       "        <textPath xlink:href=\"#arrow-bf880cb32daf4a5a8ed1e4cd395a6bf3-0-2\" class=\"displacy-label\" startOffset=\"50%\" side=\"left\" fill=\"currentColor\" text-anchor=\"middle\">dobj</textPath>\n",
       "    </text>\n",
       "    <path class=\"displacy-arrowhead\" d=\"M315.0,94.0 L323.0,82.0 307.0,82.0\" fill=\"currentColor\"/>\n",
       "</g>\n",
       "</svg></span>"
      ],
      "text/plain": [
       "<IPython.core.display.HTML object>"
      ]
     },
     "metadata": {},
     "output_type": "display_data"
    }
   ],
   "source": [
    "#Style - Dependency\n",
    "displacy.render(doc5, style='dep',jupyter = True, options = {'distance': 90} )"
   ]
  },
  {
   "cell_type": "code",
   "execution_count": null,
   "metadata": {},
   "outputs": [],
   "source": []
  }
 ],
 "metadata": {
  "kernelspec": {
   "display_name": "Python 3",
   "language": "python",
   "name": "python3"
  },
  "language_info": {
   "codemirror_mode": {
    "name": "ipython",
    "version": 3
   },
   "file_extension": ".py",
   "mimetype": "text/x-python",
   "name": "python",
   "nbconvert_exporter": "python",
   "pygments_lexer": "ipython3",
   "version": "3.7.4"
  }
 },
 "nbformat": 4,
 "nbformat_minor": 2
}
